{
  "cells": [
    {
      "cell_type": "code",
      "execution_count": null,
      "metadata": {
        "colab": {
          "base_uri": "https://localhost:8080/"
        },
        "execution": {
          "iopub.execute_input": "2022-09-30T09:36:44.608566Z",
          "iopub.status.busy": "2022-09-30T09:36:44.607818Z",
          "iopub.status.idle": "2022-09-30T09:36:44.626449Z",
          "shell.execute_reply": "2022-09-30T09:36:44.625407Z",
          "shell.execute_reply.started": "2022-09-30T09:36:44.608526Z"
        },
        "id": "eYjDDEuv74c9",
        "outputId": "21eb19d8-72bb-450e-d326-63207a7d157a",
        "trusted": true
      },
      "outputs": [
        {
          "output_type": "stream",
          "name": "stdout",
          "text": [
            "Drive already mounted at /content/drive; to attempt to forcibly remount, call drive.mount(\"/content/drive\", force_remount=True).\n"
          ]
        }
      ],
      "source": [
        "from google.colab import drive\n",
        "drive.mount('/content/drive')"
      ]
    },
    {
      "cell_type": "code",
      "execution_count": null,
      "metadata": {
        "colab": {
          "base_uri": "https://localhost:8080/"
        },
        "id": "M0Fgxv7_7_Ex",
        "outputId": "943da0f9-719f-4319-bcf9-0987a1814109"
      },
      "outputs": [
        {
          "output_type": "stream",
          "name": "stdout",
          "text": [
            "Thu Sep  7 04:48:22 2023       \n",
            "+-----------------------------------------------------------------------------+\n",
            "| NVIDIA-SMI 525.105.17   Driver Version: 525.105.17   CUDA Version: 12.0     |\n",
            "|-------------------------------+----------------------+----------------------+\n",
            "| GPU  Name        Persistence-M| Bus-Id        Disp.A | Volatile Uncorr. ECC |\n",
            "| Fan  Temp  Perf  Pwr:Usage/Cap|         Memory-Usage | GPU-Util  Compute M. |\n",
            "|                               |                      |               MIG M. |\n",
            "|===============================+======================+======================|\n",
            "|   0  Tesla T4            Off  | 00000000:00:04.0 Off |                    0 |\n",
            "| N/A   63C    P8    11W /  70W |      0MiB / 15360MiB |      0%      Default |\n",
            "|                               |                      |                  N/A |\n",
            "+-------------------------------+----------------------+----------------------+\n",
            "                                                                               \n",
            "+-----------------------------------------------------------------------------+\n",
            "| Processes:                                                                  |\n",
            "|  GPU   GI   CI        PID   Type   Process name                  GPU Memory |\n",
            "|        ID   ID                                                   Usage      |\n",
            "|=============================================================================|\n",
            "|  No running processes found                                                 |\n",
            "+-----------------------------------------------------------------------------+\n"
          ]
        }
      ],
      "source": [
        "!nvidia-smi"
      ]
    },
    {
      "cell_type": "code",
      "execution_count": null,
      "metadata": {
        "execution": {
          "iopub.execute_input": "2022-09-30T09:36:44.629230Z",
          "iopub.status.busy": "2022-09-30T09:36:44.628320Z",
          "iopub.status.idle": "2022-09-30T09:36:55.188012Z",
          "shell.execute_reply": "2022-09-30T09:36:55.186812Z",
          "shell.execute_reply.started": "2022-09-30T09:36:44.629180Z"
        },
        "id": "Bx1rOj7yBKlN",
        "trusted": true
      },
      "outputs": [],
      "source": [
        "!pip install transformers tokenizers -q"
      ]
    },
    {
      "cell_type": "code",
      "source": [
        "from transformers import BertTokenizer, BertModel, get_linear_schedule_with_warmup, DataCollatorWithPadding\n",
        "\n",
        "import torch\n",
        "from torch.utils.data import Dataset, DataLoader\n",
        "import torch.nn.functional as F\n",
        "from torch import nn, optim\n",
        "\n",
        "import numpy as np\n",
        "import pandas as pd\n",
        "\n",
        "\n",
        "from sklearn.model_selection import train_test_split\n",
        "from sklearn.metrics import confusion_matrix, classification_report\n",
        "from sklearn.metrics import precision_recall_fscore_support\n",
        "\n",
        "from collections import defaultdict\n",
        "from textwrap import wrap\n",
        "\n",
        "import seaborn as sns\n",
        "from pylab import rcParams\n",
        "\n",
        "import matplotlib.pyplot as plt\n",
        "from matplotlib import rc\n",
        "\n",
        "from tqdm import tqdm\n",
        "import os"
      ],
      "metadata": {
        "id": "-R4SxHQhqpaK"
      },
      "execution_count": null,
      "outputs": []
    },
    {
      "cell_type": "markdown",
      "source": [
        "# Utils"
      ],
      "metadata": {
        "id": "lExX_faYq2gY"
      }
    },
    {
      "cell_type": "code",
      "source": [
        "%matplotlib inline\n",
        "%config InlineBackend.figure_format='retina'\n",
        "\n",
        "sns.set(style='whitegrid', palette='muted', font_scale=1.2)\n",
        "sns.set_palette(sns.color_palette(\"Paired\"))\n",
        "\n",
        "rcParams['figure.figsize'] = 8,6\n",
        "\n",
        "RANDOM_SEED = 42\n",
        "np.random.seed(RANDOM_SEED)\n",
        "torch.manual_seed(RANDOM_SEED)\n",
        "device = torch.device(\"cuda:0\" if torch.cuda.is_available() else \"cpu\")\n",
        "\n",
        "pre_trained_model_ckpt = 'bert-base-uncased'"
      ],
      "metadata": {
        "id": "vyWdzaLEq0U6"
      },
      "execution_count": null,
      "outputs": []
    },
    {
      "cell_type": "markdown",
      "metadata": {
        "id": "VdsMuXmuj2Eh"
      },
      "source": [
        "# Read Dataset"
      ]
    },
    {
      "cell_type": "code",
      "execution_count": null,
      "metadata": {
        "colab": {
          "base_uri": "https://localhost:8080/",
          "height": 625
        },
        "execution": {
          "iopub.execute_input": "2022-09-30T09:37:03.018002Z",
          "iopub.status.busy": "2022-09-30T09:37:03.017587Z",
          "iopub.status.idle": "2022-09-30T09:37:03.227174Z",
          "shell.execute_reply": "2022-09-30T09:37:03.226199Z",
          "shell.execute_reply.started": "2022-09-30T09:37:03.017968Z"
        },
        "id": "VmwfY_Id7l5z",
        "outputId": "c98ff2f4-98ed-4c39-ddf8-57575deedecd",
        "trusted": true
      },
      "outputs": [
        {
          "output_type": "execute_result",
          "data": {
            "text/plain": [
              "                                               tweet  sarcastic  \\\n",
              "0  The only thing I got from college is a caffein...          1   \n",
              "1  I love it when professors draw a big question ...          1   \n",
              "2  Remember the hundred emails from companies whe...          1   \n",
              "3  Today my pop-pop told me I was not “forced” to...          1   \n",
              "4  @VolphanCarol @littlewhitty @mysticalmanatee I...          1   \n",
              "\n",
              "                                            rephrase  sarcasm  irony  satire  \\\n",
              "0  College is really difficult, expensive, tiring...        0      1       0   \n",
              "1  I do not like when professors don’t write out ...        1      0       0   \n",
              "2  I, at the bare minimum, wish companies actuall...        0      1       0   \n",
              "3  Today my pop-pop told me I was not \"forced\" to...        1      0       0   \n",
              "4  I would say Ted Cruz is an asshole and doesn’t...        1      0       0   \n",
              "\n",
              "   understatement  overstatement  rhetorical_question  multiclass_labels  \\\n",
              "0               0              0                    0                  2   \n",
              "1               0              0                    0                  4   \n",
              "2               0              0                    0                  2   \n",
              "3               0              0                    0                  4   \n",
              "4               0              0                    0                  4   \n",
              "\n",
              "   label_encodings  unique_labels  label_counts  random_labels  \n",
              "0            10000            0.0        2600.0           12.0  \n",
              "1           100000            1.0           0.0            NaN  \n",
              "2            10000           10.0           0.0            NaN  \n",
              "3           100000           11.0           0.0            NaN  \n",
              "4           100000          100.0           0.0            NaN  "
            ],
            "text/html": [
              "\n",
              "  <div id=\"df-78a93ab7-0843-461b-8531-457f6ab2c76a\" class=\"colab-df-container\">\n",
              "    <div>\n",
              "<style scoped>\n",
              "    .dataframe tbody tr th:only-of-type {\n",
              "        vertical-align: middle;\n",
              "    }\n",
              "\n",
              "    .dataframe tbody tr th {\n",
              "        vertical-align: top;\n",
              "    }\n",
              "\n",
              "    .dataframe thead th {\n",
              "        text-align: right;\n",
              "    }\n",
              "</style>\n",
              "<table border=\"1\" class=\"dataframe\">\n",
              "  <thead>\n",
              "    <tr style=\"text-align: right;\">\n",
              "      <th></th>\n",
              "      <th>tweet</th>\n",
              "      <th>sarcastic</th>\n",
              "      <th>rephrase</th>\n",
              "      <th>sarcasm</th>\n",
              "      <th>irony</th>\n",
              "      <th>satire</th>\n",
              "      <th>understatement</th>\n",
              "      <th>overstatement</th>\n",
              "      <th>rhetorical_question</th>\n",
              "      <th>multiclass_labels</th>\n",
              "      <th>label_encodings</th>\n",
              "      <th>unique_labels</th>\n",
              "      <th>label_counts</th>\n",
              "      <th>random_labels</th>\n",
              "    </tr>\n",
              "  </thead>\n",
              "  <tbody>\n",
              "    <tr>\n",
              "      <th>0</th>\n",
              "      <td>The only thing I got from college is a caffein...</td>\n",
              "      <td>1</td>\n",
              "      <td>College is really difficult, expensive, tiring...</td>\n",
              "      <td>0</td>\n",
              "      <td>1</td>\n",
              "      <td>0</td>\n",
              "      <td>0</td>\n",
              "      <td>0</td>\n",
              "      <td>0</td>\n",
              "      <td>2</td>\n",
              "      <td>10000</td>\n",
              "      <td>0.0</td>\n",
              "      <td>2600.0</td>\n",
              "      <td>12.0</td>\n",
              "    </tr>\n",
              "    <tr>\n",
              "      <th>1</th>\n",
              "      <td>I love it when professors draw a big question ...</td>\n",
              "      <td>1</td>\n",
              "      <td>I do not like when professors don’t write out ...</td>\n",
              "      <td>1</td>\n",
              "      <td>0</td>\n",
              "      <td>0</td>\n",
              "      <td>0</td>\n",
              "      <td>0</td>\n",
              "      <td>0</td>\n",
              "      <td>4</td>\n",
              "      <td>100000</td>\n",
              "      <td>1.0</td>\n",
              "      <td>0.0</td>\n",
              "      <td>NaN</td>\n",
              "    </tr>\n",
              "    <tr>\n",
              "      <th>2</th>\n",
              "      <td>Remember the hundred emails from companies whe...</td>\n",
              "      <td>1</td>\n",
              "      <td>I, at the bare minimum, wish companies actuall...</td>\n",
              "      <td>0</td>\n",
              "      <td>1</td>\n",
              "      <td>0</td>\n",
              "      <td>0</td>\n",
              "      <td>0</td>\n",
              "      <td>0</td>\n",
              "      <td>2</td>\n",
              "      <td>10000</td>\n",
              "      <td>10.0</td>\n",
              "      <td>0.0</td>\n",
              "      <td>NaN</td>\n",
              "    </tr>\n",
              "    <tr>\n",
              "      <th>3</th>\n",
              "      <td>Today my pop-pop told me I was not “forced” to...</td>\n",
              "      <td>1</td>\n",
              "      <td>Today my pop-pop told me I was not \"forced\" to...</td>\n",
              "      <td>1</td>\n",
              "      <td>0</td>\n",
              "      <td>0</td>\n",
              "      <td>0</td>\n",
              "      <td>0</td>\n",
              "      <td>0</td>\n",
              "      <td>4</td>\n",
              "      <td>100000</td>\n",
              "      <td>11.0</td>\n",
              "      <td>0.0</td>\n",
              "      <td>NaN</td>\n",
              "    </tr>\n",
              "    <tr>\n",
              "      <th>4</th>\n",
              "      <td>@VolphanCarol @littlewhitty @mysticalmanatee I...</td>\n",
              "      <td>1</td>\n",
              "      <td>I would say Ted Cruz is an asshole and doesn’t...</td>\n",
              "      <td>1</td>\n",
              "      <td>0</td>\n",
              "      <td>0</td>\n",
              "      <td>0</td>\n",
              "      <td>0</td>\n",
              "      <td>0</td>\n",
              "      <td>4</td>\n",
              "      <td>100000</td>\n",
              "      <td>100.0</td>\n",
              "      <td>0.0</td>\n",
              "      <td>NaN</td>\n",
              "    </tr>\n",
              "  </tbody>\n",
              "</table>\n",
              "</div>\n",
              "    <div class=\"colab-df-buttons\">\n",
              "\n",
              "  <div class=\"colab-df-container\">\n",
              "    <button class=\"colab-df-convert\" onclick=\"convertToInteractive('df-78a93ab7-0843-461b-8531-457f6ab2c76a')\"\n",
              "            title=\"Convert this dataframe to an interactive table.\"\n",
              "            style=\"display:none;\">\n",
              "\n",
              "  <svg xmlns=\"http://www.w3.org/2000/svg\" height=\"24px\" viewBox=\"0 -960 960 960\">\n",
              "    <path d=\"M120-120v-720h720v720H120Zm60-500h600v-160H180v160Zm220 220h160v-160H400v160Zm0 220h160v-160H400v160ZM180-400h160v-160H180v160Zm440 0h160v-160H620v160ZM180-180h160v-160H180v160Zm440 0h160v-160H620v160Z\"/>\n",
              "  </svg>\n",
              "    </button>\n",
              "\n",
              "  <style>\n",
              "    .colab-df-container {\n",
              "      display:flex;\n",
              "      gap: 12px;\n",
              "    }\n",
              "\n",
              "    .colab-df-convert {\n",
              "      background-color: #E8F0FE;\n",
              "      border: none;\n",
              "      border-radius: 50%;\n",
              "      cursor: pointer;\n",
              "      display: none;\n",
              "      fill: #1967D2;\n",
              "      height: 32px;\n",
              "      padding: 0 0 0 0;\n",
              "      width: 32px;\n",
              "    }\n",
              "\n",
              "    .colab-df-convert:hover {\n",
              "      background-color: #E2EBFA;\n",
              "      box-shadow: 0px 1px 2px rgba(60, 64, 67, 0.3), 0px 1px 3px 1px rgba(60, 64, 67, 0.15);\n",
              "      fill: #174EA6;\n",
              "    }\n",
              "\n",
              "    .colab-df-buttons div {\n",
              "      margin-bottom: 4px;\n",
              "    }\n",
              "\n",
              "    [theme=dark] .colab-df-convert {\n",
              "      background-color: #3B4455;\n",
              "      fill: #D2E3FC;\n",
              "    }\n",
              "\n",
              "    [theme=dark] .colab-df-convert:hover {\n",
              "      background-color: #434B5C;\n",
              "      box-shadow: 0px 1px 3px 1px rgba(0, 0, 0, 0.15);\n",
              "      filter: drop-shadow(0px 1px 2px rgba(0, 0, 0, 0.3));\n",
              "      fill: #FFFFFF;\n",
              "    }\n",
              "  </style>\n",
              "\n",
              "    <script>\n",
              "      const buttonEl =\n",
              "        document.querySelector('#df-78a93ab7-0843-461b-8531-457f6ab2c76a button.colab-df-convert');\n",
              "      buttonEl.style.display =\n",
              "        google.colab.kernel.accessAllowed ? 'block' : 'none';\n",
              "\n",
              "      async function convertToInteractive(key) {\n",
              "        const element = document.querySelector('#df-78a93ab7-0843-461b-8531-457f6ab2c76a');\n",
              "        const dataTable =\n",
              "          await google.colab.kernel.invokeFunction('convertToInteractive',\n",
              "                                                    [key], {});\n",
              "        if (!dataTable) return;\n",
              "\n",
              "        const docLinkHtml = 'Like what you see? Visit the ' +\n",
              "          '<a target=\"_blank\" href=https://colab.research.google.com/notebooks/data_table.ipynb>data table notebook</a>'\n",
              "          + ' to learn more about interactive tables.';\n",
              "        element.innerHTML = '';\n",
              "        dataTable['output_type'] = 'display_data';\n",
              "        await google.colab.output.renderOutput(dataTable, element);\n",
              "        const docLink = document.createElement('div');\n",
              "        docLink.innerHTML = docLinkHtml;\n",
              "        element.appendChild(docLink);\n",
              "      }\n",
              "    </script>\n",
              "  </div>\n",
              "\n",
              "\n",
              "<div id=\"df-19077cf9-54ef-4b9c-b1eb-39b31c237d62\">\n",
              "  <button class=\"colab-df-quickchart\" onclick=\"quickchart('df-19077cf9-54ef-4b9c-b1eb-39b31c237d62')\"\n",
              "            title=\"Suggest charts.\"\n",
              "            style=\"display:none;\">\n",
              "\n",
              "<svg xmlns=\"http://www.w3.org/2000/svg\" height=\"24px\"viewBox=\"0 0 24 24\"\n",
              "     width=\"24px\">\n",
              "    <g>\n",
              "        <path d=\"M19 3H5c-1.1 0-2 .9-2 2v14c0 1.1.9 2 2 2h14c1.1 0 2-.9 2-2V5c0-1.1-.9-2-2-2zM9 17H7v-7h2v7zm4 0h-2V7h2v10zm4 0h-2v-4h2v4z\"/>\n",
              "    </g>\n",
              "</svg>\n",
              "  </button>\n",
              "\n",
              "<style>\n",
              "  .colab-df-quickchart {\n",
              "      --bg-color: #E8F0FE;\n",
              "      --fill-color: #1967D2;\n",
              "      --hover-bg-color: #E2EBFA;\n",
              "      --hover-fill-color: #174EA6;\n",
              "      --disabled-fill-color: #AAA;\n",
              "      --disabled-bg-color: #DDD;\n",
              "  }\n",
              "\n",
              "  [theme=dark] .colab-df-quickchart {\n",
              "      --bg-color: #3B4455;\n",
              "      --fill-color: #D2E3FC;\n",
              "      --hover-bg-color: #434B5C;\n",
              "      --hover-fill-color: #FFFFFF;\n",
              "      --disabled-bg-color: #3B4455;\n",
              "      --disabled-fill-color: #666;\n",
              "  }\n",
              "\n",
              "  .colab-df-quickchart {\n",
              "    background-color: var(--bg-color);\n",
              "    border: none;\n",
              "    border-radius: 50%;\n",
              "    cursor: pointer;\n",
              "    display: none;\n",
              "    fill: var(--fill-color);\n",
              "    height: 32px;\n",
              "    padding: 0;\n",
              "    width: 32px;\n",
              "  }\n",
              "\n",
              "  .colab-df-quickchart:hover {\n",
              "    background-color: var(--hover-bg-color);\n",
              "    box-shadow: 0 1px 2px rgba(60, 64, 67, 0.3), 0 1px 3px 1px rgba(60, 64, 67, 0.15);\n",
              "    fill: var(--button-hover-fill-color);\n",
              "  }\n",
              "\n",
              "  .colab-df-quickchart-complete:disabled,\n",
              "  .colab-df-quickchart-complete:disabled:hover {\n",
              "    background-color: var(--disabled-bg-color);\n",
              "    fill: var(--disabled-fill-color);\n",
              "    box-shadow: none;\n",
              "  }\n",
              "\n",
              "  .colab-df-spinner {\n",
              "    border: 2px solid var(--fill-color);\n",
              "    border-color: transparent;\n",
              "    border-bottom-color: var(--fill-color);\n",
              "    animation:\n",
              "      spin 1s steps(1) infinite;\n",
              "  }\n",
              "\n",
              "  @keyframes spin {\n",
              "    0% {\n",
              "      border-color: transparent;\n",
              "      border-bottom-color: var(--fill-color);\n",
              "      border-left-color: var(--fill-color);\n",
              "    }\n",
              "    20% {\n",
              "      border-color: transparent;\n",
              "      border-left-color: var(--fill-color);\n",
              "      border-top-color: var(--fill-color);\n",
              "    }\n",
              "    30% {\n",
              "      border-color: transparent;\n",
              "      border-left-color: var(--fill-color);\n",
              "      border-top-color: var(--fill-color);\n",
              "      border-right-color: var(--fill-color);\n",
              "    }\n",
              "    40% {\n",
              "      border-color: transparent;\n",
              "      border-right-color: var(--fill-color);\n",
              "      border-top-color: var(--fill-color);\n",
              "    }\n",
              "    60% {\n",
              "      border-color: transparent;\n",
              "      border-right-color: var(--fill-color);\n",
              "    }\n",
              "    80% {\n",
              "      border-color: transparent;\n",
              "      border-right-color: var(--fill-color);\n",
              "      border-bottom-color: var(--fill-color);\n",
              "    }\n",
              "    90% {\n",
              "      border-color: transparent;\n",
              "      border-bottom-color: var(--fill-color);\n",
              "    }\n",
              "  }\n",
              "</style>\n",
              "\n",
              "  <script>\n",
              "    async function quickchart(key) {\n",
              "      const quickchartButtonEl =\n",
              "        document.querySelector('#' + key + ' button');\n",
              "      quickchartButtonEl.disabled = true;  // To prevent multiple clicks.\n",
              "      quickchartButtonEl.classList.add('colab-df-spinner');\n",
              "      try {\n",
              "        const charts = await google.colab.kernel.invokeFunction(\n",
              "            'suggestCharts', [key], {});\n",
              "      } catch (error) {\n",
              "        console.error('Error during call to suggestCharts:', error);\n",
              "      }\n",
              "      quickchartButtonEl.classList.remove('colab-df-spinner');\n",
              "      quickchartButtonEl.classList.add('colab-df-quickchart-complete');\n",
              "    }\n",
              "    (() => {\n",
              "      let quickchartButtonEl =\n",
              "        document.querySelector('#df-19077cf9-54ef-4b9c-b1eb-39b31c237d62 button');\n",
              "      quickchartButtonEl.style.display =\n",
              "        google.colab.kernel.accessAllowed ? 'block' : 'none';\n",
              "    })();\n",
              "  </script>\n",
              "</div>\n",
              "    </div>\n",
              "  </div>\n"
            ]
          },
          "metadata": {},
          "execution_count": 6
        }
      ],
      "source": [
        "df = pd.read_csv(\"/content/drive/MyDrive/712 Project/train.En.csv\")\n",
        "df = df[df['tweet'].notna()]\n",
        "df.head()"
      ]
    },
    {
      "cell_type": "code",
      "execution_count": null,
      "metadata": {
        "colab": {
          "base_uri": "https://localhost:8080/",
          "height": 573
        },
        "execution": {
          "iopub.execute_input": "2022-09-30T09:37:03.295007Z",
          "iopub.status.busy": "2022-09-30T09:37:03.294364Z",
          "iopub.status.idle": "2022-09-30T09:37:03.685242Z",
          "shell.execute_reply": "2022-09-30T09:37:03.684255Z",
          "shell.execute_reply.started": "2022-09-30T09:37:03.294974Z"
        },
        "id": "GkdM3VKzGkUZ",
        "outputId": "7287ed78-d82a-43df-b54e-88784db38749",
        "trusted": true
      },
      "outputs": [
        {
          "output_type": "execute_result",
          "data": {
            "text/plain": [
              "[Text(0, 0, 'Non-Sarcastic'), Text(1, 0, 'Sarcastic')]"
            ]
          },
          "metadata": {},
          "execution_count": 7
        },
        {
          "output_type": "display_data",
          "data": {
            "text/plain": [
              "<Figure size 800x600 with 1 Axes>"
            ],
            "image/png": "[encoded data removed]"
          },
          "metadata": {
            "image/png": {
              "width": 725,
              "height": 539
            }
          }
        }
      ],
      "source": [
        "class_names = ['Non-Sarcastic', 'Sarcastic']\n",
        "\n",
        "ax = sns.countplot(data=df, x=df.sarcastic)\n",
        "plt.xlabel('tweet')\n",
        "# plt.xticks(rotation=45, ha='right')\n",
        "ax.set_xticklabels(class_names)"
      ]
    },
    {
      "cell_type": "markdown",
      "metadata": {
        "id": "dX_g6AEzj6pR"
      },
      "source": [
        "## Define Transformer and Tokenizer"
      ]
    },
    {
      "cell_type": "code",
      "execution_count": null,
      "metadata": {
        "execution": {
          "iopub.execute_input": "2022-09-30T10:03:36.390311Z",
          "iopub.status.busy": "2022-09-30T10:03:36.389910Z",
          "iopub.status.idle": "2022-09-30T10:03:37.112316Z",
          "shell.execute_reply": "2022-09-30T10:03:37.111326Z",
          "shell.execute_reply.started": "2022-09-30T10:03:36.390258Z"
        },
        "id": "K9UzAgFKOEQN",
        "trusted": true
      },
      "outputs": [],
      "source": [
        "tokenizer = BertTokenizer.from_pretrained(pre_trained_model_ckpt)"
      ]
    },
    {
      "cell_type": "markdown",
      "metadata": {
        "id": "kGCthVhzkXov"
      },
      "source": [
        "### EDA of token counts in the reviews dataset"
      ]
    },
    {
      "cell_type": "code",
      "execution_count": null,
      "metadata": {
        "execution": {
          "iopub.execute_input": "2022-09-30T10:03:37.131802Z",
          "iopub.status.busy": "2022-09-30T10:03:37.131309Z",
          "iopub.status.idle": "2022-09-30T10:04:14.218133Z",
          "shell.execute_reply": "2022-09-30T10:04:14.217069Z",
          "shell.execute_reply.started": "2022-09-30T10:03:37.131763Z"
        },
        "id": "2N872LZ9Rn2l",
        "trusted": true
      },
      "outputs": [],
      "source": [
        "token_lens = []\n",
        "\n",
        "for txt in df.tweet:\n",
        "  tokens = tokenizer.encode(txt, truncation=True, max_length=512)\n",
        "  token_lens.append(len(tokens))"
      ]
    },
    {
      "cell_type": "code",
      "source": [
        "sns.histplot(token_lens, kde=True)\n",
        "\n",
        "plt.xlim([0,130])\n",
        "\n",
        "plt.xlabel('Token count')"
      ],
      "metadata": {
        "colab": {
          "base_uri": "https://localhost:8080/",
          "height": 573
        },
        "id": "QzMiRaunKbui",
        "outputId": "0754ff4b-8fde-48ae-ea72-9c4434fdc77c"
      },
      "execution_count": null,
      "outputs": [
        {
          "output_type": "execute_result",
          "data": {
            "text/plain": [
              "Text(0.5, 0, 'Token count')"
            ]
          },
          "metadata": {},
          "execution_count": 10
        },
        {
          "output_type": "display_data",
          "data": {
            "text/plain": [
              "<Figure size 800x600 with 1 Axes>"
            ],
            "image/png": "[encoded data removed]"
          },
          "metadata": {
            "image/png": {
              "width": 713,
              "height": 539
            }
          }
        }
      ]
    },
    {
      "cell_type": "code",
      "execution_count": null,
      "metadata": {
        "colab": {
          "base_uri": "https://localhost:8080/"
        },
        "execution": {
          "iopub.execute_input": "2022-09-30T10:04:14.236953Z",
          "iopub.status.busy": "2022-09-30T10:04:14.236534Z",
          "iopub.status.idle": "2022-09-30T10:04:14.253955Z",
          "shell.execute_reply": "2022-09-30T10:04:14.253125Z",
          "shell.execute_reply.started": "2022-09-30T10:04:14.236816Z"
        },
        "id": "RWoU73qh7l56",
        "outputId": "03363bd9-42fc-4d8b-825a-89cf30855a7c",
        "trusted": true
      },
      "outputs": [
        {
          "output_type": "stream",
          "name": "stdout",
          "text": [
            "(2426, 14) (1041, 14)\n"
          ]
        }
      ],
      "source": [
        "df_train, df_val = train_test_split(df, test_size = 0.3, random_state = RANDOM_SEED)\n",
        "\n",
        "print(df_train.shape, df_val.shape)"
      ]
    },
    {
      "cell_type": "code",
      "source": [
        "df_test = pd.read_csv(\"/content/drive/MyDrive/712 Project/task_A_En_test.csv\")\n",
        "df_test = df_test[df_test['text'].notna()]\n",
        "print(df_test.shape)"
      ],
      "metadata": {
        "colab": {
          "base_uri": "https://localhost:8080/"
        },
        "id": "5RHzVPdAB17j",
        "outputId": "b1fbe3fc-443d-4cc5-84d9-84c91967c90e"
      },
      "execution_count": null,
      "outputs": [
        {
          "output_type": "stream",
          "name": "stdout",
          "text": [
            "(1400, 2)\n"
          ]
        }
      ]
    },
    {
      "cell_type": "markdown",
      "source": [
        "# Dataloader"
      ],
      "metadata": {
        "id": "vSWDCND8q7Bz"
      }
    },
    {
      "cell_type": "code",
      "source": [
        "MAX_LEN = 512\n",
        "BATCH_SIZE = 16\n",
        "\n",
        "class SarcasmDataset(Dataset):\n",
        "    def __init__(self, reviews, targets, tokenizer, max_len, include_raw_text=False):\n",
        "        self.reviews = reviews\n",
        "        self.targets = targets\n",
        "        self.tokenizer = tokenizer\n",
        "        self.max_len = max_len\n",
        "        self.include_raw_text = include_raw_text\n",
        "\n",
        "    def __len__(self):\n",
        "        return len(self.reviews)\n",
        "\n",
        "    def __getitem__(self, item):\n",
        "        review = str(self.reviews[item])\n",
        "        target = self.targets[item]\n",
        "        encoding = self.tokenizer.encode_plus(\n",
        "            review,\n",
        "            add_special_tokens = True,\n",
        "            max_length = self.max_len,\n",
        "            return_token_type_ids = False,\n",
        "            return_attention_mask = True,\n",
        "            truncation = True,\n",
        "            padding = 'max_length',\n",
        "            return_tensors = 'pt',)\n",
        "\n",
        "        output = {\n",
        "            'input_ids': encoding['input_ids'].flatten(),\n",
        "            'attention_mask': encoding['attention_mask'].flatten(),\n",
        "            'targets': torch.tensor(target, dtype=torch.long)\n",
        "        }\n",
        "        if self.include_raw_text:\n",
        "            output['review_text'] = review\n",
        "\n",
        "        return output\n",
        "\n",
        "tokenizer = BertTokenizer.from_pretrained(pre_trained_model_ckpt)\n",
        "\n",
        "collator = DataCollatorWithPadding(tokenizer=tokenizer, padding = 'max_length')\n",
        "\n",
        "def create_data_loader(df, tokenizer, max_len = MAX_LEN, batch_size = BATCH_SIZE, include_raw_text = False ):\n",
        "    ds = SarcasmDataset(\n",
        "        reviews=df.tweet.to_list(),\n",
        "        targets = df.sarcastic.to_list(),\n",
        "        tokenizer=tokenizer,\n",
        "        max_len=max_len,\n",
        "        include_raw_text=include_raw_text\n",
        "    )\n",
        "    return DataLoader(ds, batch_size=batch_size, collate_fn=collator )\n",
        "\n",
        "def create_test_data_loader(df, tokenizer, max_len = MAX_LEN, batch_size = BATCH_SIZE, include_raw_text = False ):\n",
        "    ds = SarcasmDataset(\n",
        "        reviews=df.text.to_list(),\n",
        "        targets = df.sarcastic.to_list(),\n",
        "        tokenizer=tokenizer,\n",
        "        max_len=max_len,\n",
        "        include_raw_text=include_raw_text\n",
        "    )\n",
        "    return DataLoader(ds, batch_size=batch_size, collate_fn=collator )"
      ],
      "metadata": {
        "id": "gWTGuo5zqO42"
      },
      "execution_count": null,
      "outputs": []
    },
    {
      "cell_type": "code",
      "execution_count": null,
      "metadata": {
        "execution": {
          "iopub.execute_input": "2022-09-30T10:04:14.255902Z",
          "iopub.status.busy": "2022-09-30T10:04:14.255227Z",
          "iopub.status.idle": "2022-09-30T10:04:14.262977Z",
          "shell.execute_reply": "2022-09-30T10:04:14.262249Z",
          "shell.execute_reply.started": "2022-09-30T10:04:14.255865Z"
        },
        "id": "Tl_RrPWM7l56",
        "trusted": true
      },
      "outputs": [],
      "source": [
        "train_data_loader = create_data_loader(df_train, tokenizer)\n",
        "val_data_loader = create_data_loader(df_val, tokenizer, include_raw_text=False)\n",
        "test_data_loader = create_test_data_loader(df_test, tokenizer, include_raw_text=False)"
      ]
    },
    {
      "cell_type": "code",
      "execution_count": null,
      "metadata": {
        "execution": {
          "iopub.execute_input": "2022-09-30T10:04:14.265126Z",
          "iopub.status.busy": "2022-09-30T10:04:14.264062Z",
          "iopub.status.idle": "2022-09-30T10:04:16.122733Z",
          "shell.execute_reply": "2022-09-30T10:04:16.121542Z",
          "shell.execute_reply.started": "2022-09-30T10:04:14.265093Z"
        },
        "id": "-iwZVkga7hjV",
        "trusted": true
      },
      "outputs": [],
      "source": [
        "# for d in val_data_loader:\n",
        "#     print(d.keys())\n",
        "\n",
        "# dict_keys(['input_ids', 'attention_mask', 'targets', 'review_text'])"
      ]
    },
    {
      "cell_type": "code",
      "execution_count": null,
      "metadata": {
        "colab": {
          "base_uri": "https://localhost:8080/"
        },
        "execution": {
          "iopub.execute_input": "2022-09-30T10:04:16.124623Z",
          "iopub.status.busy": "2022-09-30T10:04:16.124143Z",
          "iopub.status.idle": "2022-09-30T10:04:16.185353Z",
          "shell.execute_reply": "2022-09-30T10:04:16.184308Z",
          "shell.execute_reply.started": "2022-09-30T10:04:16.124586Z"
        },
        "id": "jWQZDfro7l56",
        "outputId": "7716cd70-22e2-4ee6-f5a4-c60466342749",
        "trusted": true
      },
      "outputs": [
        {
          "output_type": "stream",
          "name": "stdout",
          "text": [
            "dict_keys(['input_ids', 'attention_mask', 'targets'])\n",
            "torch.Size([16, 512])\n",
            "torch.Size([16, 512])\n",
            "tensor([0, 0, 1, 0, 0, 0, 0, 0, 0, 1, 0, 0, 0, 0, 0, 0])\n"
          ]
        }
      ],
      "source": [
        "#Testing to see if the data loader works appropriately\n",
        "data = next(iter(test_data_loader))\n",
        "print(data.keys())\n",
        "print(data['input_ids'].shape)\n",
        "print(data['attention_mask'].shape)\n",
        "print(data['targets'])"
      ]
    },
    {
      "cell_type": "markdown",
      "metadata": {
        "id": "A4sQSt0UkoCu"
      },
      "source": [
        "# Model Utility Class"
      ]
    },
    {
      "cell_type": "code",
      "source": [
        "class SarcasticTextClassifier(nn.Module):\n",
        "    \"\"\"\n",
        "    Sarcastic Text classification model based on BERT.\n",
        "\n",
        "    Args:\n",
        "        n_classes (int): Number of classes for sarcastic text classification.\n",
        "\n",
        "    \"\"\"\n",
        "    def __init__(self, n_classes):\n",
        "        super(SarcasticTextClassifier, self).__init__()\n",
        "        self.bert = BertModel.from_pretrained(pre_trained_model_ckpt,return_dict=False)\n",
        "        self.drop = nn.Dropout(p = 0.3)\n",
        "        self.nn1 = nn.Linear(self.bert.config.hidden_size, 400)\n",
        "        self.nn2 = nn.Linear(400, 150)\n",
        "        self.out = nn.Linear(150, n_classes) # BERT returns tensors of length 768\n",
        "\n",
        "    def forward(self, input_ids, attention_mask):\n",
        "        \"\"\"\n",
        "        Forward pass of the sentiment classifier model.\n",
        "\n",
        "        Args:\n",
        "            input_ids (torch.Tensor): Input tensor of shape (batch_size, sequence_length).\n",
        "            attention_mask (torch.Tensor): Attention mask tensor of shape (batch_size, sequence_length).\n",
        "\n",
        "        Returns:\n",
        "            torch.Tensor: Output tensor of shape (batch_size, n_classes).\n",
        "\n",
        "        \"\"\"\n",
        "        _, pooled_output = self.bert(\n",
        "            input_ids = input_ids,\n",
        "            attention_mask= attention_mask\n",
        "        )\n",
        "        # print(pooled_output.shape)\n",
        "        output = self.drop(pooled_output)\n",
        "        interim = F.relu(self.nn2(F.selu(self.nn1(output))))\n",
        "        return self.out(interim)"
      ],
      "metadata": {
        "id": "8XGfuSL_pPiJ"
      },
      "execution_count": null,
      "outputs": []
    },
    {
      "cell_type": "code",
      "source": [
        "from torchsummary import summary"
      ],
      "metadata": {
        "id": "vXlvHwP9JYcx"
      },
      "execution_count": null,
      "outputs": []
    },
    {
      "cell_type": "code",
      "execution_count": null,
      "metadata": {
        "execution": {
          "iopub.execute_input": "2022-09-30T10:04:16.187337Z",
          "iopub.status.busy": "2022-09-30T10:04:16.186754Z",
          "iopub.status.idle": "2022-09-30T10:04:35.987311Z",
          "shell.execute_reply": "2022-09-30T10:04:35.986260Z",
          "shell.execute_reply.started": "2022-09-30T10:04:16.187291Z"
        },
        "id": "9grQh_PiVx62",
        "trusted": true,
        "colab": {
          "base_uri": "https://localhost:8080/"
        },
        "outputId": "5b0c482b-6e11-4865-cb46-44fbcd90dead"
      },
      "outputs": [
        {
          "output_type": "stream",
          "name": "stdout",
          "text": [
            "total number of parameters: 109850292\n",
            "total number of trainable parameters: 109850292\n"
          ]
        }
      ],
      "source": [
        "model = SarcasticTextClassifier(len(class_names))\n",
        "model = model.to(device)\n",
        "\n",
        "pytorch_total_params = sum(p.numel() for p in model.parameters())\n",
        "pytorch_total__trainable_params = sum(p.numel() for p in model.parameters() if p.requires_grad)\n",
        "print('total number of parameters: {}'.format(pytorch_total_params))\n",
        "print('total number of trainable parameters: {}'.format(pytorch_total__trainable_params))\n",
        "\n",
        "# summary(model, (BATCH_SIZE, 512))\n",
        "\n",
        "# # An evaluation run of the model\n",
        "# input_ids = data['input_ids'].to(device)\n",
        "# attention_mask = data['attention_mask'].to(device)\n",
        "# F.softmax(model(input_ids,attention_mask), dim = 1)\n"
      ]
    },
    {
      "cell_type": "markdown",
      "metadata": {
        "id": "eqO39_ANkrlI"
      },
      "source": [
        "# Training"
      ]
    },
    {
      "cell_type": "markdown",
      "metadata": {
        "id": "70NX9jLlktnx"
      },
      "source": [
        "## Training Loop Utility Functions"
      ]
    },
    {
      "cell_type": "code",
      "source": [
        "def train_model(model, data_loader, loss_fn, optimizer, device, scheduler, n_examples):\n",
        "    \"\"\"\n",
        "    Trains the given model using the provided data loader and optimizer.\n",
        "\n",
        "    Args:\n",
        "        model (torch.nn.Module): Model to train.\n",
        "        data_loader (DataLoader): DataLoader providing the training data.\n",
        "        loss_fn: Loss function to optimize.\n",
        "        optimizer: Optimizer for updating the model's parameters.\n",
        "        device: Device to use for training.\n",
        "        scheduler: Learning rate scheduler.\n",
        "        n_examples (int): Total number of training examples.\n",
        "\n",
        "    Returns:\n",
        "        float: Accuracy of the model on the training data.\n",
        "        float: Average training loss.\n",
        "\n",
        "    \"\"\"\n",
        "    model=model.train()\n",
        "    losses = []\n",
        "    correct_predictions = 0\n",
        "\n",
        "    accuracy, f1, PRECISION, RECALL = 0, 0, 0, 0\n",
        "    epsilon = 1e-7\n",
        "\n",
        "    loop = tqdm(data_loader, total=len(data_loader), leave=False)\n",
        "\n",
        "    \"\"\"  iterate over the batches provided by the data loader. Within each iteration, the batch tensors are moved to the appropriate device. The model performs a forward pass on the input tensors, and the predicted labels are obtained by taking the maximum value along the appropriate dimension. \"\"\"\n",
        "    for d in loop:\n",
        "        input_ids = d[\"input_ids\"].to(device)\n",
        "        attention_mask = d[\"attention_mask\"].to(device)\n",
        "        targets = d[\"targets\"].to(device)\n",
        "\n",
        "        outputs = model(input_ids=input_ids, attention_mask=attention_mask)\n",
        "        _, preds = torch.max(outputs, dim = 1)\n",
        "        # print(f'targets: {targets}')\n",
        "        # print(f'predictions: {preds}')\n",
        "        loss = loss_fn(outputs, targets)\n",
        "\n",
        "        correct_predictions += torch.sum(preds == targets).cpu()\n",
        "\n",
        "        losses.append(loss.item())\n",
        "\n",
        "        loss.backward()\n",
        "        nn.utils.clip_grad_norm_(model.parameters(), max_norm=1.0)\n",
        "        optimizer.step()\n",
        "        scheduler.step()\n",
        "        optimizer.zero_grad()\n",
        "\n",
        "        # update tqdm loop\n",
        "        # loop.set_postfix(loss=loss.item())\n",
        "\n",
        "        precision, recall, fscore, _ = precision_recall_fscore_support(np.array(targets.detach().cpu()), np.array(preds.detach().cpu()), average='macro', zero_division=0.0)\n",
        "\n",
        "        PRECISION += precision\n",
        "        RECALL += recall\n",
        "        f1 += fscore\n",
        "\n",
        "    # return correct_predictions/n_examples, np.mean(losses)\n",
        "    return correct_predictions/n_examples, np.mean(losses), f1/len(data_loader), PRECISION/len(data_loader), RECALL/len(data_loader)\n",
        "\n",
        "''' clip_grad_norm - We tackle the problem of exploding and vanishing gradients By gradient clipping '''\n",
        "\n",
        "\n",
        "def eval_model(model, data_loader, loss_fn, device, n_examples):\n",
        "    model = model.eval()\n",
        "    losses = []\n",
        "    correct_predictions = 0\n",
        "\n",
        "    accuracy, f1, PRECISION, RECALL = 0, 0, 0, 0\n",
        "    epsilon = 1e-7\n",
        "\n",
        "    loop = tqdm(data_loader, total=len(data_loader), leave=False)\n",
        "    with torch.no_grad():\n",
        "        for d in loop:\n",
        "            input_ids = d[\"input_ids\"].to(device)\n",
        "            attention_mask = d[\"attention_mask\"].to(device)\n",
        "            targets = d[\"targets\"].to(device)\n",
        "\n",
        "            outputs = model(input_ids=input_ids, attention_mask=attention_mask)\n",
        "\n",
        "            _,preds = torch.max(outputs, dim = 1)\n",
        "\n",
        "            loss = loss_fn(outputs, targets.detach())\n",
        "            correct_predictions += torch.sum(preds == targets).cpu()\n",
        "            losses.append(loss.item())\n",
        "\n",
        "            # update tqdm loop\n",
        "            loop.set_postfix(loss=loss.item())\n",
        "\n",
        "            precision, recall, fscore, _ = precision_recall_fscore_support(np.array(targets.detach().cpu()), np.array(preds.detach().cpu()), average='macro', zero_division=0.0)\n",
        "\n",
        "            PRECISION += precision\n",
        "            RECALL += recall\n",
        "            f1 += fscore\n",
        "\n",
        "    # return correct_predictions/n_examples, np.mean(losses)\n",
        "    return correct_predictions/n_examples, np.mean(losses), f1/len(data_loader), PRECISION/len(data_loader), RECALL/len(data_loader)\n",
        "\n",
        "# Model Evaluation on test_data_loader\n",
        "def get_predictions(model, data_loader):\n",
        "    model = model.eval()\n",
        "    predictions = []\n",
        "    prediction_probs = []\n",
        "    real_values = []\n",
        "    predictions2 = []\n",
        "\n",
        "    with torch.no_grad():\n",
        "        for i,d in enumerate(data_loader):\n",
        "            input_ids = d[\"input_ids\"].to(device)\n",
        "            attention_mask = d[\"attention_mask\"].to(device)\n",
        "            targets = d[\"targets\"].to(device)\n",
        "            outputs = model(input_ids = input_ids, attention_mask = attention_mask)\n",
        "            _, preds = torch.max(outputs, dim=1)\n",
        "            probs = F.softmax(outputs, dim =1)\n",
        "            _, preds2 = torch.max(probs, dim =1)\n",
        "            predictions2.extend(preds2)\n",
        "            predictions.extend(preds)\n",
        "            prediction_probs.extend(probs)\n",
        "            real_values.extend(targets)\n",
        "\n",
        "    predictions = torch.stack(predictions).cpu()\n",
        "    predictions2 = torch.stack(predictions2).cpu()\n",
        "    prediction_probs = torch.stack(prediction_probs).cpu()\n",
        "    real_values = torch.stack(real_values).cpu()\n",
        "    return predictions, prediction_probs, real_values, predictions2"
      ],
      "metadata": {
        "id": "d3Vt7Ib8p7OK"
      },
      "execution_count": null,
      "outputs": []
    },
    {
      "cell_type": "code",
      "execution_count": null,
      "metadata": {
        "code_folding": [
          9,
          30
        ],
        "execution": {
          "iopub.execute_input": "2022-09-30T10:04:36.007680Z",
          "iopub.status.busy": "2022-09-30T10:04:36.007068Z",
          "iopub.status.idle": "2022-09-30T10:04:36.018186Z",
          "shell.execute_reply": "2022-09-30T10:04:36.017247Z",
          "shell.execute_reply.started": "2022-09-30T10:04:36.007643Z"
        },
        "id": "VaVkCHUxfRh6",
        "trusted": true
      },
      "outputs": [],
      "source": [
        "EPOCHS = 2\n",
        "\n",
        "optimizer = optim.AdamW(model.parameters(), lr= 1e-5)\n",
        "\n",
        "total_steps = len(train_data_loader) * EPOCHS\n",
        "\n",
        "scheduler = get_linear_schedule_with_warmup(\n",
        "    optimizer,\n",
        "    num_warmup_steps = 0,\n",
        "    num_training_steps=total_steps)\n",
        "\n",
        "\n",
        "loss_fn = nn.CrossEntropyLoss().to(device)\n",
        "\n",
        "LOAD_MODEL = False\n",
        "weight_dir = \"/content/drive/MyDrive/712 Project/weights\""
      ]
    },
    {
      "cell_type": "code",
      "source": [
        "def load_checkpoint(checkpoint, model):\n",
        "  print(\"=> Loading checkpoint\")\n",
        "  model.load_state_dict(checkpoint)\n",
        "  print(\"checkpoint loaded!\")"
      ],
      "metadata": {
        "id": "RED8kd1f28vb"
      },
      "execution_count": null,
      "outputs": []
    },
    {
      "cell_type": "code",
      "source": [
        "import os"
      ],
      "metadata": {
        "id": "LQXv7VtG90JT"
      },
      "execution_count": null,
      "outputs": []
    },
    {
      "cell_type": "markdown",
      "metadata": {
        "id": "xASNu0l4kzAC"
      },
      "source": [
        "## Training Loop"
      ]
    },
    {
      "cell_type": "code",
      "execution_count": null,
      "metadata": {
        "execution": {
          "iopub.execute_input": "2022-09-30T10:04:36.052479Z",
          "iopub.status.busy": "2022-09-30T10:04:36.052189Z",
          "iopub.status.idle": "2022-09-30T10:17:21.965811Z",
          "shell.execute_reply": "2022-09-30T10:17:21.964611Z",
          "shell.execute_reply.started": "2022-09-30T10:04:36.052455Z"
        },
        "id": "0atMu0I8fD0J",
        "scrolled": true,
        "trusted": true,
        "colab": {
          "base_uri": "https://localhost:8080/"
        },
        "outputId": "51489097-0daf-4efa-ede4-664c56289e58"
      },
      "outputs": [
        {
          "output_type": "stream",
          "name": "stdout",
          "text": [
            "Initiating/Resuming Training...\n",
            "Epoch 1 / 2\n",
            "------------------------------\n"
          ]
        },
        {
          "output_type": "stream",
          "name": "stderr",
          "text": []
        },
        {
          "output_type": "stream",
          "name": "stdout",
          "text": [
            "Train Metrics: loss = 0.5600779803567811, Accuracy = 0.7580379247665405, F1 = 0.4337191949050158, Precision = 0.3854675751879699, Recall = 0.5025318020794994\n"
          ]
        },
        {
          "output_type": "stream",
          "name": "stderr",
          "text": []
        },
        {
          "output_type": "stream",
          "name": "stdout",
          "text": [
            "Val Metrics: Loss = 0.6049265432538409, Accuracy = 0.7243035435676575, F1 = 0.41134998023876135, Precision = 0.35700757575757575, Recall = 0.49242424242424243\n",
            "=> Just saved checkpoint for epoch : 1\n",
            "Epoch 2 / 2\n",
            "------------------------------\n"
          ]
        },
        {
          "output_type": "stream",
          "name": "stderr",
          "text": []
        },
        {
          "output_type": "stream",
          "name": "stdout",
          "text": [
            "Train Metrics: loss = 0.5405387664703947, Accuracy = 0.7609233260154724, F1 = 0.43661643210352336, Precision = 0.3870888157894737, Recall = 0.506578947368421\n"
          ]
        },
        {
          "output_type": "stream",
          "name": "stderr",
          "text": [
            "                                                          "
          ]
        },
        {
          "output_type": "stream",
          "name": "stdout",
          "text": [
            "Val Metrics: Loss = 0.5987148415861707, Accuracy = 0.7243035435676575, F1 = 0.41134998023876135, Precision = 0.35700757575757575, Recall = 0.49242424242424243\n",
            "CPU times: user 7min 53s, sys: 1.62 s, total: 7min 54s\n",
            "Wall time: 8min 43s\n"
          ]
        },
        {
          "output_type": "stream",
          "name": "stderr",
          "text": [
            "\r"
          ]
        }
      ],
      "source": [
        "%%time\n",
        "history = defaultdict(list)\n",
        "best_accuracy = 0\n",
        "best_f1 = 0\n",
        "\n",
        "if LOAD_MODEL:\n",
        "  checkpoint = torch.load(os.path.join(weight_dir,'best_model_state_Task1.pth.tar'))\n",
        "  load_checkpoint(checkpoint, model)\n",
        "\n",
        "print('Initiating/Resuming Training...')\n",
        "\n",
        "for epoch in range(EPOCHS):\n",
        "    print(f'Epoch {epoch + 1} / {EPOCHS}')\n",
        "    print('-'*30)\n",
        "    # train_acc, train_loss = train_model(model, train_data_loader, loss_fn, optimizer, device, scheduler, len(df_train))\n",
        "    # print(f'Train loss {train_loss} accuracy {train_acc}')\n",
        "    train_acc, train_loss, train_f1, train_precision, train_recall = train_model(model, train_data_loader, loss_fn, optimizer, device, scheduler, len(df_train))\n",
        "    print(f'Train Metrics: loss = {train_loss}, Accuracy = {train_acc}, F1 = {train_f1}, Precision = {train_precision}, Recall = {train_recall}')\n",
        "\n",
        "    # val_acc, val_loss = eval_model(model, val_data_loader, loss_fn, device, len(df_val))\n",
        "    # print(f'Val loss {val_loss} accuracy {val_acc}')\n",
        "    val_acc, val_loss, val_f1, val_precision, val_recall = eval_model(model, val_data_loader, loss_fn, device, len(df_val))\n",
        "    print(f'Val Metrics: Loss = {val_loss}, Accuracy = {val_acc}, F1 = {val_f1}, Precision = {val_precision}, Recall = {val_recall}')\n",
        "\n",
        "    history['train_acc'].append(train_acc)\n",
        "    history['train_loss'].append(train_loss)\n",
        "    history['val_acc'].append(val_acc)\n",
        "    history['val_loss'].append(val_loss)\n",
        "\n",
        "    history['train_precision'].append(train_precision)\n",
        "    history['train_f1'].append(train_f1)\n",
        "    history['train_recall'].append(train_recall)\n",
        "    history['val_precision'].append(val_precision)\n",
        "    history['val_f1'].append(val_f1)\n",
        "    history['val_recall'].append(val_recall)\n",
        "\n",
        "    if val_acc>best_accuracy and val_f1>best_f1:\n",
        "        torch.save(model.state_dict(), os.path.join(weight_dir,'best_model_state_Task1.pth.tar'))\n",
        "        print(f\"=> Just saved checkpoint for epoch : {epoch+1}\")\n",
        "        best_accuracy = val_acc\n",
        "        best_f1 = val_f1"
      ]
    },
    {
      "cell_type": "markdown",
      "metadata": {
        "id": "i7NhCQLnk5F3"
      },
      "source": [
        "# Model Evaluation"
      ]
    },
    {
      "cell_type": "code",
      "execution_count": null,
      "metadata": {
        "code_folding": [
          1,
          25
        ],
        "execution": {
          "iopub.execute_input": "2022-09-30T10:17:27.490861Z",
          "iopub.status.busy": "2022-09-30T10:17:27.490381Z",
          "iopub.status.idle": "2022-09-30T10:17:30.991203Z",
          "shell.execute_reply": "2022-09-30T10:17:30.990200Z",
          "shell.execute_reply.started": "2022-09-30T10:17:27.490809Z"
        },
        "id": "cuj1JI24NkJa",
        "trusted": true,
        "colab": {
          "base_uri": "https://localhost:8080/"
        },
        "outputId": "970c0d08-4583-46fe-809b-6219ecc9891a"
      },
      "outputs": [
        {
          "output_type": "stream",
          "name": "stdout",
          "text": [
            "=> Loading checkpoint\n",
            "checkpoint loaded!\n",
            "Test precision: 0.8571428571428571\n",
            "Test recall: 0.8571428571428571\n",
            "Test F1: 0.8571428571428571\n"
          ]
        }
      ],
      "source": [
        "checkpoint = torch.load(os.path.join(weight_dir,'best_model_state_Task1.pth.tar'))\n",
        "load_checkpoint(checkpoint, model)\n",
        "\n",
        "y_pred, y_pred_probs, y_test, y_pred2 = get_predictions(model, test_data_loader)\n",
        "precision, recall, fscore, _ = precision_recall_fscore_support(np.array(y_test), np.array(y_pred2), average='micro', zero_division=0.0)\n",
        "print(f\"Test precision: {precision}\")\n",
        "print(f\"Test recall: {recall}\")\n",
        "print(f\"Test F1: {fscore}\")"
      ]
    },
    {
      "cell_type": "code",
      "execution_count": null,
      "metadata": {
        "execution": {
          "iopub.execute_input": "2022-09-30T10:17:31.377571Z",
          "iopub.status.busy": "2022-09-30T10:17:31.377211Z",
          "iopub.status.idle": "2022-09-30T10:17:31.408543Z",
          "shell.execute_reply": "2022-09-30T10:17:31.407602Z",
          "shell.execute_reply.started": "2022-09-30T10:17:31.377537Z"
        },
        "id": "vrvFFMASWigO",
        "trusted": true,
        "colab": {
          "base_uri": "https://localhost:8080/"
        },
        "outputId": "6803ba34-9278-4fe7-ebc9-7987eb36be61"
      },
      "outputs": [
        {
          "output_type": "stream",
          "name": "stdout",
          "text": [
            "Tweet: Love it when I get disturbed three times in the bath to be asked where things in the house are!!\n",
            "Class: Non-Sarcastic\n"
          ]
        }
      ],
      "source": [
        "tweet = \"Love it when I get disturbed three times in the bath to be asked where things in the house are!!\"\n",
        "encoded_review = tokenizer.encode_plus(tweet, max_length=MAX_LEN, add_special_tokens=True, return_token_type_ids=False, padding='max_length', return_attention_mask=True,\n",
        "                                       truncation=True, return_tensors='pt')\n",
        "input_ids = encoded_review['input_ids'].to(device)\n",
        "attention_mask=encoded_review['attention_mask'].to(device)\n",
        "output = model(input_ids, attention_mask)\n",
        "_,prediction = torch.max(F.softmax(output, dim=1), dim=1)\n",
        "\n",
        "print(f'Tweet: {tweet}')\n",
        "print(f'Class: {class_names[prediction]}')\n"
      ]
    }
  ],
  "metadata": {
    "accelerator": "GPU",
    "colab": {
      "provenance": [],
      "gpuType": "T4"
    },
    "kernelspec": {
      "display_name": "Python 3",
      "name": "python3"
    },
    "language_info": {
      "codemirror_mode": {
        "name": "ipython",
        "version": 3
      },
      "file_extension": ".py",
      "mimetype": "text/x-python",
      "name": "python",
      "nbconvert_exporter": "python",
      "pygments_lexer": "ipython3",
      "version": "3.9.14"
    },
    "varInspector": {
      "cols": {
        "lenName": 16,
        "lenType": 16,
        "lenVar": 40
      },
      "kernels_config": {
        "python": {
          "delete_cmd_postfix": "",
          "delete_cmd_prefix": "del ",
          "library": "var_list.py",
          "varRefreshCmd": "print(var_dic_list())"
        },
        "r": {
          "delete_cmd_postfix": ") ",
          "delete_cmd_prefix": "rm(",
          "library": "var_list.r",
          "varRefreshCmd": "cat(var_dic_list()) "
        }
      },
      "types_to_exclude": [
        "module",
        "function",
        "builtin_function_or_method",
        "instance",
        "_Feature"
      ],
      "window_display": false
    },
    "vscode": {
      "interpreter": {
        "hash": "36cf16204b8548560b1c020c4e8fb5b57f0e4c58016f52f2d4be01e192833930"
      }
    }
  },
  "nbformat": 4,
  "nbformat_minor": 0
}